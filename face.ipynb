{
 "cells": [
  {
   "cell_type": "code",
   "execution_count": 1,
   "id": "5f33cbd9",
   "metadata": {},
   "outputs": [
    {
     "name": "stdout",
     "output_type": "stream",
     "text": [
      "Collecting package metadata (current_repodata.json): ...working... done\n",
      "Note: you may need to restart the kernel to use updated packages.\n",
      "\n",
      "Solving environment: ...working... done\n",
      "\n",
      "## Package Plan ##\n",
      "\n",
      "  environment location: C:\\Users\\Dell\\anaconda3\\envs\\hci_lab\n",
      "\n",
      "  added / updated specs:\n",
      "    - dlib\n",
      "\n",
      "\n",
      "The following packages will be UPDATED:\n",
      "\n",
      "  ca-certificates    pkgs/main::ca-certificates-2022.10.11~ --> conda-forge::ca-certificates-2022.12.7-h5b45459_0\n",
      "  certifi            pkgs/main/win-64::certifi-2022.9.24-p~ --> conda-forge/noarch::certifi-2022.12.7-pyhd8ed1ab_0\n",
      "\n",
      "\n",
      "Preparing transaction: ...working... done\n",
      "Verifying transaction: ...working... done\n",
      "Executing transaction: ...working... done\n"
     ]
    },
    {
     "name": "stderr",
     "output_type": "stream",
     "text": [
      "\n",
      "\n",
      "==> WARNING: A newer version of conda exists. <==\n",
      "  current version: 4.13.0\n",
      "  latest version: 22.11.1\n",
      "\n",
      "Please update conda by running\n",
      "\n",
      "    $ conda update -n base -c defaults conda\n",
      "\n",
      "\n"
     ]
    }
   ],
   "source": [
    "conda install -c conda-forge dlib"
   ]
  },
  {
   "cell_type": "code",
   "execution_count": 2,
   "id": "b625e95b",
   "metadata": {},
   "outputs": [
    {
     "name": "stdout",
     "output_type": "stream",
     "text": [
      "Requirement already satisfied: numpy in c:\\users\\dell\\anaconda3\\envs\\hci_lab\\lib\\site-packages (1.23.4)\n"
     ]
    },
    {
     "name": "stderr",
     "output_type": "stream",
     "text": [
      "WARNING: Ignoring invalid distribution -pencv-python (c:\\users\\dell\\anaconda3\\envs\\hci_lab\\lib\\site-packages)\n",
      "WARNING: Ignoring invalid distribution -pencv-contrib-python (c:\\users\\dell\\anaconda3\\envs\\hci_lab\\lib\\site-packages)\n",
      "WARNING: Ignoring invalid distribution - (c:\\users\\dell\\anaconda3\\envs\\hci_lab\\lib\\site-packages)\n",
      "WARNING: Ignoring invalid distribution -pencv-python (c:\\users\\dell\\anaconda3\\envs\\hci_lab\\lib\\site-packages)\n",
      "WARNING: Ignoring invalid distribution -pencv-contrib-python (c:\\users\\dell\\anaconda3\\envs\\hci_lab\\lib\\site-packages)\n",
      "WARNING: Ignoring invalid distribution - (c:\\users\\dell\\anaconda3\\envs\\hci_lab\\lib\\site-packages)\n",
      "WARNING: Ignoring invalid distribution -pencv-python (c:\\users\\dell\\anaconda3\\envs\\hci_lab\\lib\\site-packages)\n",
      "WARNING: Ignoring invalid distribution -pencv-contrib-python (c:\\users\\dell\\anaconda3\\envs\\hci_lab\\lib\\site-packages)\n",
      "WARNING: Ignoring invalid distribution - (c:\\users\\dell\\anaconda3\\envs\\hci_lab\\lib\\site-packages)\n",
      "WARNING: Ignoring invalid distribution -pencv-python (c:\\users\\dell\\anaconda3\\envs\\hci_lab\\lib\\site-packages)\n",
      "WARNING: Ignoring invalid distribution -pencv-contrib-python (c:\\users\\dell\\anaconda3\\envs\\hci_lab\\lib\\site-packages)\n",
      "WARNING: Ignoring invalid distribution - (c:\\users\\dell\\anaconda3\\envs\\hci_lab\\lib\\site-packages)\n",
      "WARNING: Ignoring invalid distribution -pencv-python (c:\\users\\dell\\anaconda3\\envs\\hci_lab\\lib\\site-packages)\n",
      "WARNING: Ignoring invalid distribution -pencv-contrib-python (c:\\users\\dell\\anaconda3\\envs\\hci_lab\\lib\\site-packages)\n",
      "WARNING: Ignoring invalid distribution - (c:\\users\\dell\\anaconda3\\envs\\hci_lab\\lib\\site-packages)\n",
      "WARNING: Ignoring invalid distribution -pencv-python (c:\\users\\dell\\anaconda3\\envs\\hci_lab\\lib\\site-packages)\n",
      "WARNING: Ignoring invalid distribution -pencv-contrib-python (c:\\users\\dell\\anaconda3\\envs\\hci_lab\\lib\\site-packages)\n",
      "WARNING: Ignoring invalid distribution - (c:\\users\\dell\\anaconda3\\envs\\hci_lab\\lib\\site-packages)\n"
     ]
    },
    {
     "name": "stdout",
     "output_type": "stream",
     "text": [
      "Requirement already satisfied: scipy in c:\\users\\dell\\anaconda3\\envs\\hci_lab\\lib\\site-packages (1.9.1)\n",
      "Requirement already satisfied: numpy<1.25.0,>=1.18.5 in c:\\users\\dell\\anaconda3\\envs\\hci_lab\\lib\\site-packages (from scipy) (1.23.4)\n"
     ]
    },
    {
     "name": "stderr",
     "output_type": "stream",
     "text": [
      "WARNING: Ignoring invalid distribution -pencv-python (c:\\users\\dell\\anaconda3\\envs\\hci_lab\\lib\\site-packages)\n",
      "WARNING: Ignoring invalid distribution -pencv-contrib-python (c:\\users\\dell\\anaconda3\\envs\\hci_lab\\lib\\site-packages)\n",
      "WARNING: Ignoring invalid distribution - (c:\\users\\dell\\anaconda3\\envs\\hci_lab\\lib\\site-packages)\n",
      "WARNING: Ignoring invalid distribution -pencv-python (c:\\users\\dell\\anaconda3\\envs\\hci_lab\\lib\\site-packages)\n",
      "WARNING: Ignoring invalid distribution -pencv-contrib-python (c:\\users\\dell\\anaconda3\\envs\\hci_lab\\lib\\site-packages)\n",
      "WARNING: Ignoring invalid distribution - (c:\\users\\dell\\anaconda3\\envs\\hci_lab\\lib\\site-packages)\n",
      "WARNING: Ignoring invalid distribution -pencv-python (c:\\users\\dell\\anaconda3\\envs\\hci_lab\\lib\\site-packages)\n",
      "WARNING: Ignoring invalid distribution -pencv-contrib-python (c:\\users\\dell\\anaconda3\\envs\\hci_lab\\lib\\site-packages)\n",
      "WARNING: Ignoring invalid distribution - (c:\\users\\dell\\anaconda3\\envs\\hci_lab\\lib\\site-packages)\n",
      "WARNING: Ignoring invalid distribution -pencv-python (c:\\users\\dell\\anaconda3\\envs\\hci_lab\\lib\\site-packages)\n",
      "WARNING: Ignoring invalid distribution -pencv-contrib-python (c:\\users\\dell\\anaconda3\\envs\\hci_lab\\lib\\site-packages)\n",
      "WARNING: Ignoring invalid distribution - (c:\\users\\dell\\anaconda3\\envs\\hci_lab\\lib\\site-packages)\n",
      "WARNING: Ignoring invalid distribution -pencv-python (c:\\users\\dell\\anaconda3\\envs\\hci_lab\\lib\\site-packages)\n",
      "WARNING: Ignoring invalid distribution -pencv-contrib-python (c:\\users\\dell\\anaconda3\\envs\\hci_lab\\lib\\site-packages)\n",
      "WARNING: Ignoring invalid distribution - (c:\\users\\dell\\anaconda3\\envs\\hci_lab\\lib\\site-packages)\n",
      "WARNING: Ignoring invalid distribution -pencv-python (c:\\users\\dell\\anaconda3\\envs\\hci_lab\\lib\\site-packages)\n",
      "WARNING: Ignoring invalid distribution -pencv-contrib-python (c:\\users\\dell\\anaconda3\\envs\\hci_lab\\lib\\site-packages)\n",
      "WARNING: Ignoring invalid distribution - (c:\\users\\dell\\anaconda3\\envs\\hci_lab\\lib\\site-packages)\n"
     ]
    },
    {
     "name": "stdout",
     "output_type": "stream",
     "text": [
      "Requirement already satisfied: matplotlib in c:\\users\\dell\\anaconda3\\envs\\hci_lab\\lib\\site-packages (3.4.3)\n",
      "Requirement already satisfied: pillow>=6.2.0 in c:\\users\\dell\\anaconda3\\envs\\hci_lab\\lib\\site-packages (from matplotlib) (9.3.0)\n",
      "Requirement already satisfied: kiwisolver>=1.0.1 in c:\\users\\dell\\anaconda3\\envs\\hci_lab\\lib\\site-packages (from matplotlib) (1.4.4)\n",
      "Requirement already satisfied: python-dateutil>=2.7 in c:\\users\\dell\\anaconda3\\envs\\hci_lab\\lib\\site-packages (from matplotlib) (2.8.2)\n",
      "Requirement already satisfied: pyparsing>=2.2.1 in c:\\users\\dell\\anaconda3\\envs\\hci_lab\\lib\\site-packages (from matplotlib) (3.0.9)\n",
      "Requirement already satisfied: numpy>=1.16 in c:\\users\\dell\\anaconda3\\envs\\hci_lab\\lib\\site-packages (from matplotlib) (1.23.4)\n",
      "Requirement already satisfied: cycler>=0.10 in c:\\users\\dell\\anaconda3\\envs\\hci_lab\\lib\\site-packages (from matplotlib) (0.11.0)\n",
      "Requirement already satisfied: six>=1.5 in c:\\users\\dell\\anaconda3\\envs\\hci_lab\\lib\\site-packages (from python-dateutil>=2.7->matplotlib) (1.16.0)\n"
     ]
    },
    {
     "name": "stderr",
     "output_type": "stream",
     "text": [
      "WARNING: Ignoring invalid distribution -pencv-python (c:\\users\\dell\\anaconda3\\envs\\hci_lab\\lib\\site-packages)\n",
      "WARNING: Ignoring invalid distribution -pencv-contrib-python (c:\\users\\dell\\anaconda3\\envs\\hci_lab\\lib\\site-packages)\n",
      "WARNING: Ignoring invalid distribution - (c:\\users\\dell\\anaconda3\\envs\\hci_lab\\lib\\site-packages)\n",
      "WARNING: Ignoring invalid distribution -pencv-python (c:\\users\\dell\\anaconda3\\envs\\hci_lab\\lib\\site-packages)\n",
      "WARNING: Ignoring invalid distribution -pencv-contrib-python (c:\\users\\dell\\anaconda3\\envs\\hci_lab\\lib\\site-packages)\n",
      "WARNING: Ignoring invalid distribution - (c:\\users\\dell\\anaconda3\\envs\\hci_lab\\lib\\site-packages)\n",
      "WARNING: Ignoring invalid distribution -pencv-python (c:\\users\\dell\\anaconda3\\envs\\hci_lab\\lib\\site-packages)\n",
      "WARNING: Ignoring invalid distribution -pencv-contrib-python (c:\\users\\dell\\anaconda3\\envs\\hci_lab\\lib\\site-packages)\n",
      "WARNING: Ignoring invalid distribution - (c:\\users\\dell\\anaconda3\\envs\\hci_lab\\lib\\site-packages)\n",
      "WARNING: Ignoring invalid distribution -pencv-python (c:\\users\\dell\\anaconda3\\envs\\hci_lab\\lib\\site-packages)\n",
      "WARNING: Ignoring invalid distribution -pencv-contrib-python (c:\\users\\dell\\anaconda3\\envs\\hci_lab\\lib\\site-packages)\n",
      "WARNING: Ignoring invalid distribution - (c:\\users\\dell\\anaconda3\\envs\\hci_lab\\lib\\site-packages)\n",
      "WARNING: Ignoring invalid distribution -pencv-python (c:\\users\\dell\\anaconda3\\envs\\hci_lab\\lib\\site-packages)\n",
      "WARNING: Ignoring invalid distribution -pencv-contrib-python (c:\\users\\dell\\anaconda3\\envs\\hci_lab\\lib\\site-packages)\n",
      "WARNING: Ignoring invalid distribution - (c:\\users\\dell\\anaconda3\\envs\\hci_lab\\lib\\site-packages)\n",
      "WARNING: Ignoring invalid distribution -pencv-python (c:\\users\\dell\\anaconda3\\envs\\hci_lab\\lib\\site-packages)\n",
      "WARNING: Ignoring invalid distribution -pencv-contrib-python (c:\\users\\dell\\anaconda3\\envs\\hci_lab\\lib\\site-packages)\n",
      "WARNING: Ignoring invalid distribution - (c:\\users\\dell\\anaconda3\\envs\\hci_lab\\lib\\site-packages)\n"
     ]
    },
    {
     "name": "stdout",
     "output_type": "stream",
     "text": [
      "Requirement already satisfied: pandas in c:\\users\\dell\\anaconda3\\envs\\hci_lab\\lib\\site-packages (1.4.3)\n",
      "Requirement already satisfied: pytz>=2020.1 in c:\\users\\dell\\anaconda3\\envs\\hci_lab\\lib\\site-packages (from pandas) (2022.2.1)\n",
      "Requirement already satisfied: python-dateutil>=2.8.1 in c:\\users\\dell\\anaconda3\\envs\\hci_lab\\lib\\site-packages (from pandas) (2.8.2)\n",
      "Requirement already satisfied: numpy>=1.18.5 in c:\\users\\dell\\anaconda3\\envs\\hci_lab\\lib\\site-packages (from pandas) (1.23.4)\n",
      "Requirement already satisfied: six>=1.5 in c:\\users\\dell\\anaconda3\\envs\\hci_lab\\lib\\site-packages (from python-dateutil>=2.8.1->pandas) (1.16.0)\n"
     ]
    },
    {
     "name": "stderr",
     "output_type": "stream",
     "text": [
      "WARNING: Ignoring invalid distribution -pencv-python (c:\\users\\dell\\anaconda3\\envs\\hci_lab\\lib\\site-packages)\n",
      "WARNING: Ignoring invalid distribution -pencv-contrib-python (c:\\users\\dell\\anaconda3\\envs\\hci_lab\\lib\\site-packages)\n",
      "WARNING: Ignoring invalid distribution - (c:\\users\\dell\\anaconda3\\envs\\hci_lab\\lib\\site-packages)\n",
      "WARNING: Ignoring invalid distribution -pencv-python (c:\\users\\dell\\anaconda3\\envs\\hci_lab\\lib\\site-packages)\n",
      "WARNING: Ignoring invalid distribution -pencv-contrib-python (c:\\users\\dell\\anaconda3\\envs\\hci_lab\\lib\\site-packages)\n",
      "WARNING: Ignoring invalid distribution - (c:\\users\\dell\\anaconda3\\envs\\hci_lab\\lib\\site-packages)\n",
      "WARNING: Ignoring invalid distribution -pencv-python (c:\\users\\dell\\anaconda3\\envs\\hci_lab\\lib\\site-packages)\n",
      "WARNING: Ignoring invalid distribution -pencv-contrib-python (c:\\users\\dell\\anaconda3\\envs\\hci_lab\\lib\\site-packages)\n",
      "WARNING: Ignoring invalid distribution - (c:\\users\\dell\\anaconda3\\envs\\hci_lab\\lib\\site-packages)\n",
      "WARNING: Ignoring invalid distribution -pencv-python (c:\\users\\dell\\anaconda3\\envs\\hci_lab\\lib\\site-packages)\n",
      "WARNING: Ignoring invalid distribution -pencv-contrib-python (c:\\users\\dell\\anaconda3\\envs\\hci_lab\\lib\\site-packages)\n",
      "WARNING: Ignoring invalid distribution - (c:\\users\\dell\\anaconda3\\envs\\hci_lab\\lib\\site-packages)\n",
      "WARNING: Ignoring invalid distribution -pencv-python (c:\\users\\dell\\anaconda3\\envs\\hci_lab\\lib\\site-packages)\n",
      "WARNING: Ignoring invalid distribution -pencv-contrib-python (c:\\users\\dell\\anaconda3\\envs\\hci_lab\\lib\\site-packages)\n",
      "WARNING: Ignoring invalid distribution - (c:\\users\\dell\\anaconda3\\envs\\hci_lab\\lib\\site-packages)\n",
      "WARNING: Ignoring invalid distribution -pencv-python (c:\\users\\dell\\anaconda3\\envs\\hci_lab\\lib\\site-packages)\n",
      "WARNING: Ignoring invalid distribution -pencv-contrib-python (c:\\users\\dell\\anaconda3\\envs\\hci_lab\\lib\\site-packages)\n",
      "WARNING: Ignoring invalid distribution - (c:\\users\\dell\\anaconda3\\envs\\hci_lab\\lib\\site-packages)\n"
     ]
    }
   ],
   "source": [
    "!pip install numpy\n",
    "\n",
    "!pip install scipy\n",
    "\n",
    "!pip install matplotlib\n",
    "\n",
    "!pip install pandas"
   ]
  },
  {
   "cell_type": "code",
   "execution_count": 3,
   "id": "65adfac5",
   "metadata": {},
   "outputs": [
    {
     "name": "stdout",
     "output_type": "stream",
     "text": [
      "Requirement already satisfied: dlib in c:\\users\\dell\\anaconda3\\envs\\hci_lab\\lib\\site-packages (19.24.0)\n"
     ]
    },
    {
     "name": "stderr",
     "output_type": "stream",
     "text": [
      "WARNING: Ignoring invalid distribution -pencv-python (c:\\users\\dell\\anaconda3\\envs\\hci_lab\\lib\\site-packages)\n",
      "WARNING: Ignoring invalid distribution -pencv-contrib-python (c:\\users\\dell\\anaconda3\\envs\\hci_lab\\lib\\site-packages)\n",
      "WARNING: Ignoring invalid distribution - (c:\\users\\dell\\anaconda3\\envs\\hci_lab\\lib\\site-packages)\n",
      "WARNING: Ignoring invalid distribution -pencv-python (c:\\users\\dell\\anaconda3\\envs\\hci_lab\\lib\\site-packages)\n",
      "WARNING: Ignoring invalid distribution -pencv-contrib-python (c:\\users\\dell\\anaconda3\\envs\\hci_lab\\lib\\site-packages)\n",
      "WARNING: Ignoring invalid distribution - (c:\\users\\dell\\anaconda3\\envs\\hci_lab\\lib\\site-packages)\n",
      "WARNING: Ignoring invalid distribution -pencv-python (c:\\users\\dell\\anaconda3\\envs\\hci_lab\\lib\\site-packages)\n",
      "WARNING: Ignoring invalid distribution -pencv-contrib-python (c:\\users\\dell\\anaconda3\\envs\\hci_lab\\lib\\site-packages)\n",
      "WARNING: Ignoring invalid distribution - (c:\\users\\dell\\anaconda3\\envs\\hci_lab\\lib\\site-packages)\n",
      "WARNING: Ignoring invalid distribution -pencv-python (c:\\users\\dell\\anaconda3\\envs\\hci_lab\\lib\\site-packages)\n",
      "WARNING: Ignoring invalid distribution -pencv-contrib-python (c:\\users\\dell\\anaconda3\\envs\\hci_lab\\lib\\site-packages)\n",
      "WARNING: Ignoring invalid distribution - (c:\\users\\dell\\anaconda3\\envs\\hci_lab\\lib\\site-packages)\n",
      "WARNING: Ignoring invalid distribution -pencv-python (c:\\users\\dell\\anaconda3\\envs\\hci_lab\\lib\\site-packages)\n",
      "WARNING: Ignoring invalid distribution -pencv-contrib-python (c:\\users\\dell\\anaconda3\\envs\\hci_lab\\lib\\site-packages)\n",
      "WARNING: Ignoring invalid distribution - (c:\\users\\dell\\anaconda3\\envs\\hci_lab\\lib\\site-packages)\n",
      "WARNING: Ignoring invalid distribution -pencv-python (c:\\users\\dell\\anaconda3\\envs\\hci_lab\\lib\\site-packages)\n",
      "WARNING: Ignoring invalid distribution -pencv-contrib-python (c:\\users\\dell\\anaconda3\\envs\\hci_lab\\lib\\site-packages)\n",
      "WARNING: Ignoring invalid distribution - (c:\\users\\dell\\anaconda3\\envs\\hci_lab\\lib\\site-packages)\n"
     ]
    }
   ],
   "source": [
    "!pip3 install dlib"
   ]
  },
  {
   "cell_type": "code",
   "execution_count": 4,
   "id": "1b8e8aa4",
   "metadata": {},
   "outputs": [
    {
     "name": "stdout",
     "output_type": "stream",
     "text": [
      "Requirement already satisfied: face_recognition in c:\\users\\dell\\anaconda3\\envs\\hci_lab\\lib\\site-packages (1.3.0)\n",
      "Requirement already satisfied: dlib>=19.7 in c:\\users\\dell\\anaconda3\\envs\\hci_lab\\lib\\site-packages (from face_recognition) (19.24.0)\n",
      "Requirement already satisfied: Pillow in c:\\users\\dell\\anaconda3\\envs\\hci_lab\\lib\\site-packages (from face_recognition) (9.3.0)\n",
      "Requirement already satisfied: numpy in c:\\users\\dell\\anaconda3\\envs\\hci_lab\\lib\\site-packages (from face_recognition) (1.23.4)\n",
      "Requirement already satisfied: Click>=6.0 in c:\\users\\dell\\anaconda3\\envs\\hci_lab\\lib\\site-packages (from face_recognition) (8.0.4)\n",
      "Requirement already satisfied: face-recognition-models>=0.3.0 in c:\\users\\dell\\anaconda3\\envs\\hci_lab\\lib\\site-packages (from face_recognition) (0.3.0)\n",
      "Requirement already satisfied: colorama in c:\\users\\dell\\anaconda3\\envs\\hci_lab\\lib\\site-packages (from Click>=6.0->face_recognition) (0.4.5)\n"
     ]
    },
    {
     "name": "stderr",
     "output_type": "stream",
     "text": [
      "WARNING: Ignoring invalid distribution -pencv-python (c:\\users\\dell\\anaconda3\\envs\\hci_lab\\lib\\site-packages)\n",
      "WARNING: Ignoring invalid distribution -pencv-contrib-python (c:\\users\\dell\\anaconda3\\envs\\hci_lab\\lib\\site-packages)\n",
      "WARNING: Ignoring invalid distribution - (c:\\users\\dell\\anaconda3\\envs\\hci_lab\\lib\\site-packages)\n",
      "WARNING: Ignoring invalid distribution -pencv-python (c:\\users\\dell\\anaconda3\\envs\\hci_lab\\lib\\site-packages)\n",
      "WARNING: Ignoring invalid distribution -pencv-contrib-python (c:\\users\\dell\\anaconda3\\envs\\hci_lab\\lib\\site-packages)\n",
      "WARNING: Ignoring invalid distribution - (c:\\users\\dell\\anaconda3\\envs\\hci_lab\\lib\\site-packages)\n",
      "WARNING: Ignoring invalid distribution -pencv-python (c:\\users\\dell\\anaconda3\\envs\\hci_lab\\lib\\site-packages)\n",
      "WARNING: Ignoring invalid distribution -pencv-contrib-python (c:\\users\\dell\\anaconda3\\envs\\hci_lab\\lib\\site-packages)\n",
      "WARNING: Ignoring invalid distribution - (c:\\users\\dell\\anaconda3\\envs\\hci_lab\\lib\\site-packages)\n",
      "WARNING: Ignoring invalid distribution -pencv-python (c:\\users\\dell\\anaconda3\\envs\\hci_lab\\lib\\site-packages)\n",
      "WARNING: Ignoring invalid distribution -pencv-contrib-python (c:\\users\\dell\\anaconda3\\envs\\hci_lab\\lib\\site-packages)\n",
      "WARNING: Ignoring invalid distribution - (c:\\users\\dell\\anaconda3\\envs\\hci_lab\\lib\\site-packages)\n",
      "WARNING: Ignoring invalid distribution -pencv-python (c:\\users\\dell\\anaconda3\\envs\\hci_lab\\lib\\site-packages)\n",
      "WARNING: Ignoring invalid distribution -pencv-contrib-python (c:\\users\\dell\\anaconda3\\envs\\hci_lab\\lib\\site-packages)\n",
      "WARNING: Ignoring invalid distribution - (c:\\users\\dell\\anaconda3\\envs\\hci_lab\\lib\\site-packages)\n",
      "WARNING: Ignoring invalid distribution -pencv-python (c:\\users\\dell\\anaconda3\\envs\\hci_lab\\lib\\site-packages)\n",
      "WARNING: Ignoring invalid distribution -pencv-contrib-python (c:\\users\\dell\\anaconda3\\envs\\hci_lab\\lib\\site-packages)\n",
      "WARNING: Ignoring invalid distribution - (c:\\users\\dell\\anaconda3\\envs\\hci_lab\\lib\\site-packages)\n"
     ]
    }
   ],
   "source": [
    "!pip3 install face_recognition"
   ]
  },
  {
   "cell_type": "code",
   "execution_count": 5,
   "id": "15558254",
   "metadata": {},
   "outputs": [],
   "source": [
    "import face_recognition\n",
    "import cv2\n",
    "import numpy as np"
   ]
  },
  {
   "cell_type": "code",
   "execution_count": 9,
   "id": "60d65780",
   "metadata": {},
   "outputs": [],
   "source": [
    "\n",
    "# This is a demo of running face recognition on live video from your webcam. It's a little more complicated than the\n",
    "# other example, but it includes some basic performance tweaks to make things run a lot faster:\n",
    "#   1. Process each video frame at 1/4 resolution (though still display it at full resolution)\n",
    "#   2. Only detect faces in every other frame of video.\n",
    "\n",
    "# PLEASE NOTE: This example requires OpenCV (the `cv2` library) to be installed only to read from your webcam.\n",
    "# OpenCV is *not* required to use the face_recognition library. It's only required if you want to run this\n",
    "# specific demo. If you have trouble installing it, try any of the other demos that don't require it instead.\n",
    "\n",
    "# Get a reference to webcam #0 (the default one)\n",
    "video_capture = cv2.VideoCapture(0)\n",
    "\n",
    "# Load a sample picture and learn how to recognize it.\n",
    "obama_image = face_recognition.load_image_file(\"people/obama.jpg\")\n",
    "obama_face_encoding = face_recognition.face_encodings(obama_image)[0]\n",
    "\n",
    "# Load a second sample picture and learn how to recognize it.\n",
    "biden_image = face_recognition.load_image_file(\"people/moamen.jpeg\")\n",
    "biden_face_encoding = face_recognition.face_encodings(biden_image)[0]\n",
    "\n",
    "biden_image = face_recognition.load_image_file(\"people/Kerolos.jpeg\")\n",
    "biden_face_encoding2 = face_recognition.face_encodings(biden_image)[0]\n",
    "biden_image = face_recognition.load_image_file(\"people/marten.jpeg\")\n",
    "biden_face_encoding3 = face_recognition.face_encodings(biden_image)[0]\n",
    "\n",
    "# Create arrays of known face encodings and their names\n",
    "known_face_encodings = [\n",
    "    obama_face_encoding,\n",
    "    biden_face_encoding,\n",
    "    biden_face_encoding2,\n",
    "    biden_face_encoding3\n",
    "]\n",
    "known_face_names = [\n",
    "    \"Barack Obama\",\n",
    "    \"Moamen Zaher\",\n",
    "    \"kerolos\",\n",
    "    \"marten\"\n",
    "]\n",
    "\n",
    "# Initialize some variables\n",
    "face_locations = []\n",
    "face_encodings = []\n",
    "face_names = []\n",
    "process_this_frame = True\n",
    "\n",
    "while True:\n",
    "    # Grab a single frame of video\n",
    "    ret, frame = video_capture.read()\n",
    "\n",
    "    # Only process every other frame of video to save time\n",
    "    if process_this_frame:\n",
    "        # Resize frame of video to 1/4 size for faster face recognition processing\n",
    "        small_frame = cv2.resize(frame, (0, 0), fx=0.25, fy=0.25)\n",
    "\n",
    "        # Convert the image from BGR color (which OpenCV uses) to RGB color (which face_recognition uses)\n",
    "        rgb_small_frame = small_frame[:, :, ::-1]\n",
    "        \n",
    "        # Find all the faces and face encodings in the current frame of video\n",
    "        face_locations = face_recognition.face_locations(rgb_small_frame)\n",
    "        face_encodings = face_recognition.face_encodings(rgb_small_frame, face_locations)\n",
    "\n",
    "        face_names = []\n",
    "        for face_encoding in face_encodings:\n",
    "            # See if the face is a match for the known face(s)\n",
    "            matches = face_recognition.compare_faces(known_face_encodings, face_encoding)\n",
    "            name = \"Unknown\"\n",
    "\n",
    "            # # If a match was found in known_face_encodings, just use the first one.\n",
    "            # if True in matches:\n",
    "            #     first_match_index = matches.index(True)\n",
    "            #     name = known_face_names[first_match_index]\n",
    "\n",
    "            # Or instead, use the known face with the smallest distance to the new face\n",
    "            face_distances = face_recognition.face_distance(known_face_encodings, face_encoding)\n",
    "            best_match_index = np.argmin(face_distances)\n",
    "            if matches[best_match_index]:\n",
    "                name = known_face_names[best_match_index]\n",
    "\n",
    "            face_names.append(name)\n",
    "\n",
    "    process_this_frame = not process_this_frame\n",
    "\n",
    "\n",
    "    # Display the results\n",
    "    for (top, right, bottom, left), name in zip(face_locations, face_names):\n",
    "        # Scale back up face locations since the frame we detected in was scaled to 1/4 size\n",
    "        top *= 4\n",
    "        right *= 4\n",
    "        bottom *= 4\n",
    "        left *= 4\n",
    "\n",
    "        # Draw a box around the face\n",
    "        cv2.rectangle(frame, (left, top), (right, bottom), (0, 0, 255), 2)\n",
    "\n",
    "        # Draw a label with a name below the face\n",
    "        cv2.rectangle(frame, (left, bottom - 35), (right, bottom), (0, 0, 255), cv2.FILLED)\n",
    "        font = cv2.FONT_HERSHEY_DUPLEX\n",
    "        cv2.putText(frame, name, (left + 6, bottom - 6), font, 1.0, (255, 255, 255), 1)\n",
    "\n",
    "    # Display the resulting image\n",
    "    cv2.imshow('Video', frame)\n",
    "\n",
    "    # Hit 'q' on the keyboard to quit!\n",
    "    if cv2.waitKey(1) & 0xFF == ord('q'):\n",
    "        break\n",
    "\n",
    "# Release handle to the webcam\n",
    "video_capture.release()\n",
    "cv2.destroyAllWindows()"
   ]
  },
  {
   "cell_type": "code",
   "execution_count": null,
   "id": "8c659239",
   "metadata": {},
   "outputs": [],
   "source": []
  },
  {
   "cell_type": "code",
   "execution_count": null,
   "id": "2a28e35e",
   "metadata": {},
   "outputs": [],
   "source": []
  }
 ],
 "metadata": {
  "kernelspec": {
   "display_name": "Python 3 (ipykernel)",
   "language": "python",
   "name": "python3"
  },
  "language_info": {
   "codemirror_mode": {
    "name": "ipython",
    "version": 3
   },
   "file_extension": ".py",
   "mimetype": "text/x-python",
   "name": "python",
   "nbconvert_exporter": "python",
   "pygments_lexer": "ipython3",
   "version": "3.9.12"
  }
 },
 "nbformat": 4,
 "nbformat_minor": 5
}
